{
 "cells": [
  {
   "cell_type": "code",
   "execution_count": 1,
   "metadata": {},
   "outputs": [
    {
     "name": "stderr",
     "output_type": "stream",
     "text": [
      "Failed to detect the name of this notebook, you can set it manually with the WANDB_NOTEBOOK_NAME environment variable to enable code saving.\n",
      "\u001b[34m\u001b[1mwandb\u001b[0m: Currently logged in as: \u001b[33mbobbypestana\u001b[0m (\u001b[33mbobbypestana-kvantify\u001b[0m). Use \u001b[1m`wandb login --relogin`\u001b[0m to force relogin\n"
     ]
    },
    {
     "data": {
      "text/html": [
       "Tracking run with wandb version 0.17.8"
      ],
      "text/plain": [
       "<IPython.core.display.HTML object>"
      ]
     },
     "metadata": {},
     "output_type": "display_data"
    },
    {
     "data": {
      "text/html": [
       "Run data is saved locally in <code>BAS/wandb/run-20241014_141406-ze5la9px</code>"
      ],
      "text/plain": [
       "<IPython.core.display.HTML object>"
      ]
     },
     "metadata": {},
     "output_type": "display_data"
    },
    {
     "data": {
      "text/html": [
       "Syncing run <strong><a href='https://wandb.ai/bobbypestana-kvantify/gan-noise-investigation-test/runs/ze5la9px' target=\"_blank\">sleek-star-44</a></strong> to <a href='https://wandb.ai/bobbypestana-kvantify/gan-noise-investigation-test' target=\"_blank\">Weights & Biases</a> (<a href='https://wandb.me/run' target=\"_blank\">docs</a>)<br/>"
      ],
      "text/plain": [
       "<IPython.core.display.HTML object>"
      ]
     },
     "metadata": {},
     "output_type": "display_data"
    },
    {
     "data": {
      "text/html": [
       " View project at <a href='https://wandb.ai/bobbypestana-kvantify/gan-noise-investigation-test' target=\"_blank\">https://wandb.ai/bobbypestana-kvantify/gan-noise-investigation-test</a>"
      ],
      "text/plain": [
       "<IPython.core.display.HTML object>"
      ]
     },
     "metadata": {},
     "output_type": "display_data"
    },
    {
     "data": {
      "text/html": [
       " View run at <a href='https://wandb.ai/bobbypestana-kvantify/gan-noise-investigation-test/runs/ze5la9px' target=\"_blank\">https://wandb.ai/bobbypestana-kvantify/gan-noise-investigation-test/runs/ze5la9px</a>"
      ],
      "text/plain": [
       "<IPython.core.display.HTML object>"
      ]
     },
     "metadata": {},
     "output_type": "display_data"
    },
    {
     "name": "stdout",
     "output_type": "stream",
     "text": [
      "Epoch [0/200], Step [625/2500], D Loss: 1.0045, G Loss: 2.1293, D(x): 0.65, D(G(z)): 0.43, Time Elapsed: 22.19 sec\n",
      "Epoch [0/200], Step [1250/2500], D Loss: 0.3714, G Loss: 2.5944, D(x): 0.95, D(G(z)): 0.27, Time Elapsed: 37.53 sec\n",
      "Epoch [0/200], Step [1875/2500], D Loss: 0.1212, G Loss: 3.7328, D(x): 0.97, D(G(z)): 0.09, Time Elapsed: 53.06 sec\n",
      "Epoch [0/200], Step [2500/2500], D Loss: 0.0316, G Loss: 5.0024, D(x): 0.99, D(G(z)): 0.02, Time Elapsed: 70.18 sec\n",
      "Epoch [1/200], Step [625/2500], D Loss: 0.0146, G Loss: 5.9123, D(x): 1.00, D(G(z)): 0.01, Time Elapsed: 17.01 sec\n",
      "Epoch [1/200], Step [1250/2500], D Loss: 0.0052, G Loss: 6.5902, D(x): 1.00, D(G(z)): 0.01, Time Elapsed: 32.42 sec\n",
      "Epoch [1/200], Step [1875/2500], D Loss: 0.0066, G Loss: 6.9766, D(x): 1.00, D(G(z)): 0.00, Time Elapsed: 49.21 sec\n",
      "Epoch [1/200], Step [2500/2500], D Loss: 0.0024, G Loss: 7.5623, D(x): 1.00, D(G(z)): 0.00, Time Elapsed: 65.96 sec\n",
      "Epoch [2/200], Step [625/2500], D Loss: 0.0020, G Loss: 7.9351, D(x): 1.00, D(G(z)): 0.00, Time Elapsed: 15.97 sec\n",
      "Epoch [2/200], Step [1250/2500], D Loss: 0.0014, G Loss: 8.2802, D(x): 1.00, D(G(z)): 0.00, Time Elapsed: 32.07 sec\n",
      "Epoch [2/200], Step [1875/2500], D Loss: 0.0013, G Loss: 8.4841, D(x): 1.00, D(G(z)): 0.00, Time Elapsed: 48.71 sec\n",
      "Epoch [2/200], Step [2500/2500], D Loss: 0.0014, G Loss: 8.8578, D(x): 1.00, D(G(z)): 0.00, Time Elapsed: 64.78 sec\n",
      "Epoch [3/200], Step [625/2500], D Loss: 0.0007, G Loss: 8.8833, D(x): 1.00, D(G(z)): 0.00, Time Elapsed: 16.31 sec\n",
      "Epoch [3/200], Step [1250/2500], D Loss: 0.0006, G Loss: 9.3736, D(x): 1.00, D(G(z)): 0.00, Time Elapsed: 36.92 sec\n",
      "Epoch [3/200], Step [1875/2500], D Loss: 0.0006, G Loss: 9.5669, D(x): 1.00, D(G(z)): 0.00, Time Elapsed: 49.29 sec\n",
      "Epoch [3/200], Step [2500/2500], D Loss: 0.0005, G Loss: 9.4272, D(x): 1.00, D(G(z)): 0.00, Time Elapsed: 66.18 sec\n",
      "Epoch [4/200], Step [625/2500], D Loss: 0.0004, G Loss: 9.8210, D(x): 1.00, D(G(z)): 0.00, Time Elapsed: 14.45 sec\n",
      "Epoch [4/200], Step [1250/2500], D Loss: 0.0002, G Loss: 10.1950, D(x): 1.00, D(G(z)): 0.00, Time Elapsed: 30.52 sec\n",
      "Epoch [4/200], Step [1875/2500], D Loss: 0.0002, G Loss: 10.2483, D(x): 1.00, D(G(z)): 0.00, Time Elapsed: 48.84 sec\n",
      "Epoch [4/200], Step [2500/2500], D Loss: 0.0002, G Loss: 10.3960, D(x): 1.00, D(G(z)): 0.00, Time Elapsed: 65.60 sec\n",
      "Epoch [5/200], Step [625/2500], D Loss: 0.0001, G Loss: 9.2235, D(x): 1.00, D(G(z)): 0.00, Time Elapsed: 16.59 sec\n",
      "Epoch [5/200], Step [1250/2500], D Loss: 0.0001, G Loss: 9.9774, D(x): 1.00, D(G(z)): 0.00, Time Elapsed: 34.72 sec\n",
      "Epoch [5/200], Step [1875/2500], D Loss: 0.0001, G Loss: 11.0296, D(x): 1.00, D(G(z)): 0.00, Time Elapsed: 51.69 sec\n",
      "Epoch [5/200], Step [2500/2500], D Loss: 0.0001, G Loss: 11.1839, D(x): 1.00, D(G(z)): 0.00, Time Elapsed: 68.25 sec\n",
      "Epoch [6/200], Step [625/2500], D Loss: 0.0001, G Loss: 11.4195, D(x): 1.00, D(G(z)): 0.00, Time Elapsed: 17.12 sec\n",
      "Epoch [6/200], Step [1250/2500], D Loss: 0.0001, G Loss: 11.6149, D(x): 1.00, D(G(z)): 0.00, Time Elapsed: 34.65 sec\n",
      "Epoch [6/200], Step [1875/2500], D Loss: 0.0001, G Loss: 10.8636, D(x): 1.00, D(G(z)): 0.00, Time Elapsed: 52.93 sec\n",
      "Epoch [6/200], Step [2500/2500], D Loss: 0.0001, G Loss: 11.9798, D(x): 1.00, D(G(z)): 0.00, Time Elapsed: 70.12 sec\n",
      "Epoch [7/200], Step [625/2500], D Loss: 0.0001, G Loss: 11.1188, D(x): 1.00, D(G(z)): 0.00, Time Elapsed: 14.85 sec\n",
      "Epoch [7/200], Step [1250/2500], D Loss: 0.0001, G Loss: 11.4909, D(x): 1.00, D(G(z)): 0.00, Time Elapsed: 31.11 sec\n",
      "Epoch [7/200], Step [1875/2500], D Loss: 0.0001, G Loss: 11.1170, D(x): 1.00, D(G(z)): 0.00, Time Elapsed: 47.32 sec\n",
      "Epoch [7/200], Step [2500/2500], D Loss: 0.0003, G Loss: 9.9046, D(x): 1.00, D(G(z)): 0.00, Time Elapsed: 62.08 sec\n",
      "Epoch [8/200], Step [625/2500], D Loss: 0.0006, G Loss: 9.0908, D(x): 1.00, D(G(z)): 0.00, Time Elapsed: 13.96 sec\n",
      "Epoch [8/200], Step [1250/2500], D Loss: 0.0012, G Loss: 8.6300, D(x): 1.00, D(G(z)): 0.00, Time Elapsed: 33.67 sec\n",
      "Epoch [8/200], Step [1875/2500], D Loss: 0.0034, G Loss: 7.9532, D(x): 1.00, D(G(z)): 0.00, Time Elapsed: 49.39 sec\n",
      "Epoch [8/200], Step [2500/2500], D Loss: 0.0043, G Loss: 7.2085, D(x): 1.00, D(G(z)): 0.00, Time Elapsed: 68.20 sec\n",
      "Epoch [9/200], Step [625/2500], D Loss: 0.0117, G Loss: 7.0469, D(x): 0.99, D(G(z)): 0.00, Time Elapsed: 16.61 sec\n",
      "Epoch [9/200], Step [1250/2500], D Loss: 0.0175, G Loss: 6.8419, D(x): 0.99, D(G(z)): 0.00, Time Elapsed: 32.91 sec\n",
      "Epoch [9/200], Step [1875/2500], D Loss: 0.0115, G Loss: 6.4408, D(x): 0.99, D(G(z)): 0.01, Time Elapsed: 49.97 sec\n",
      "Epoch [9/200], Step [2500/2500], D Loss: 0.0193, G Loss: 6.2174, D(x): 0.99, D(G(z)): 0.01, Time Elapsed: 68.41 sec\n",
      "Epoch [10/200], Step [625/2500], D Loss: 0.0257, G Loss: 5.7453, D(x): 0.99, D(G(z)): 0.01, Time Elapsed: 15.33 sec\n",
      "Epoch [10/200], Step [1250/2500], D Loss: 0.0231, G Loss: 5.9210, D(x): 0.99, D(G(z)): 0.01, Time Elapsed: 30.78 sec\n",
      "Epoch [10/200], Step [1875/2500], D Loss: 0.0483, G Loss: 5.2475, D(x): 0.99, D(G(z)): 0.04, Time Elapsed: 45.69 sec\n",
      "Epoch [10/200], Step [2500/2500], D Loss: 0.0356, G Loss: 5.2858, D(x): 0.98, D(G(z)): 0.02, Time Elapsed: 60.53 sec\n",
      "Stopping training as D(x) ≈ 1.00 and D(G(z)) ≈ 0.00 for 10 consecutive epochs.\n"
     ]
    },
    {
     "data": {
      "application/vnd.jupyter.widget-view+json": {
       "model_id": "64492b3f3ab64c73afa68dda71fed23c",
       "version_major": 2,
       "version_minor": 0
      },
      "text/plain": [
       "VBox(children=(Label(value='0.003 MB of 0.003 MB uploaded\\r'), FloatProgress(value=1.0, max=1.0)))"
      ]
     },
     "metadata": {},
     "output_type": "display_data"
    },
    {
     "data": {
      "text/html": [
       "<style>\n",
       "    table.wandb td:nth-child(1) { padding: 0 10px; text-align: left ; width: auto;} td:nth-child(2) {text-align: left ; width: 100%}\n",
       "    .wandb-row { display: flex; flex-direction: row; flex-wrap: wrap; justify-content: flex-start; width: 100% }\n",
       "    .wandb-col { display: flex; flex-direction: column; flex-basis: 100%; flex: 1; padding: 10px; }\n",
       "    </style>\n",
       "<div class=\"wandb-row\"><div class=\"wandb-col\"><h3>Run history:</h3><br/><table class=\"wandb\"><tr><td>D Loss</td><td>█▄▂▁▁▁▁▁▁▁▁▁▁▁▁▁▁▁▁▁▁▁▁▁▁▁▁▁▁▁▁▁▁▁▁▁▁▁▁▁</td></tr><tr><td>D(G(z))</td><td>█▅▂▁▁▁▁▁▁▁▁▁▁▁▁▁▁▁▁▁▁▁▁▁▁▁▁▁▁▁▁▁▁▁▁▁▁▁▁▁</td></tr><tr><td>D(x)</td><td>▁▇▇█████████████████████████████████████</td></tr><tr><td>Epoch</td><td>▁▁▁▁▂▂▂▂▂▂▂▃▃▃▃▄▄▄▄▅▅▅▅▅▅▅▆▆▆▆▇▇▇▇▇▇▇███</td></tr><tr><td>G Loss</td><td>▁▁▂▃▄▄▄▅▅▅▆▆▆▆▆▆▇▇▇▆▇▇██▇█▇█▇▇▆▅▅▄▄▄▄▄▄▃</td></tr><tr><td>Time Elapsed</td><td>▂▄▆█▁▃▅▇▁▃▇▁▄▅▇▁▃▅▇▁▆█▁▄▆█▁▃▅▇▃▅█▁▃▅█▁▃▇</td></tr></table><br/></div><div class=\"wandb-col\"><h3>Run summary:</h3><br/><table class=\"wandb\"><tr><td>D Loss</td><td>0.03565</td></tr><tr><td>D(G(z))</td><td>0.0164</td></tr><tr><td>D(x)</td><td>0.9826</td></tr><tr><td>Epoch</td><td>10</td></tr><tr><td>G Loss</td><td>5.28578</td></tr><tr><td>Time Elapsed</td><td>60.52635</td></tr></table><br/></div></div>"
      ],
      "text/plain": [
       "<IPython.core.display.HTML object>"
      ]
     },
     "metadata": {},
     "output_type": "display_data"
    },
    {
     "data": {
      "text/html": [
       " View run <strong style=\"color:#cdcd00\">sleek-star-44</strong> at: <a href='https://wandb.ai/bobbypestana-kvantify/gan-noise-investigation-test/runs/ze5la9px' target=\"_blank\">https://wandb.ai/bobbypestana-kvantify/gan-noise-investigation-test/runs/ze5la9px</a><br/> View project at: <a href='https://wandb.ai/bobbypestana-kvantify/gan-noise-investigation-test' target=\"_blank\">https://wandb.ai/bobbypestana-kvantify/gan-noise-investigation-test</a><br/>Synced 6 W&B file(s), 0 media file(s), 0 artifact file(s) and 0 other file(s)"
      ],
      "text/plain": [
       "<IPython.core.display.HTML object>"
      ]
     },
     "metadata": {},
     "output_type": "display_data"
    },
    {
     "data": {
      "text/html": [
       "Find logs at: <code>BAS/wandb/run-20241014_141406-ze5la9px/logs</code>"
      ],
      "text/plain": [
       "<IPython.core.display.HTML object>"
      ]
     },
     "metadata": {},
     "output_type": "display_data"
    },
    {
     "data": {
      "text/html": [
       "wandb version 0.18.3 is available!  To upgrade, please run:\n",
       " $ pip install wandb --upgrade"
      ],
      "text/plain": [
       "<IPython.core.display.HTML object>"
      ]
     },
     "metadata": {},
     "output_type": "display_data"
    },
    {
     "data": {
      "text/html": [
       "The new W&B backend becomes opt-out in version 0.18.0; try it out with `wandb.require(\"core\")`! See https://wandb.me/wandb-core for more information."
      ],
      "text/plain": [
       "<IPython.core.display.HTML object>"
      ]
     },
     "metadata": {},
     "output_type": "display_data"
    }
   ],
   "source": [
    "# %run ../train.py \\\n",
    "# --noise_type normal \\\n",
    "# --noise_mean 0.0 \\\n",
    "# --noise_std 1.0 \\\n",
    "# --noise_min -1.0 \\\n",
    "# --noise_max 1.0 \\\n",
    "# --noise_lambda 1.0 \\\n",
    "# --noise_alpha 2.0 \\\n",
    "# --noise_beta 1.0 \\\n",
    "# --hidden_layers_d 5 \\\n",
    "# --hidden_layers_g 5 \\\n",
    "# --latent_size 5 \\\n",
    "# --hidden_size 32 \\\n",
    "# --image_size 9 \\\n",
    "# --img_dim 3 \\\n",
    "# --batch_size 100 \\\n",
    "# --learning_rate 0.00001 \\\n",
    "# --num_epochs 200 \\\n",
    "# --project_wandb gan-noise-investigation-test \\\n",
    "# --n_samples 60_000 \\\n",
    "# --run_on_notebook True \\\n",
    "# --dataset BAS\n",
    "# --reduction_factor 0.8\n",
    "\n",
    "\n",
    "# %run ../train.py \\\n",
    "# --noise_type normal \\\n",
    "# --noise_mean 0.0 \\\n",
    "# --noise_std 5.0 \\\n",
    "# --noise_min -1.0 \\\n",
    "# --noise_max 1.0 \\\n",
    "# --noise_lambda 1.0 \\\n",
    "# --noise_alpha 2.0 \\\n",
    "# --noise_beta 1.0 \\\n",
    "# --hidden_layers_d 1 \\\n",
    "# --hidden_layers_g 2 \\\n",
    "# --latent_size 64 \\\n",
    "# --hidden_size 256 \\\n",
    "# --image_size 784 \\\n",
    "# --img_dim 28 \\\n",
    "# --batch_size 50 \\\n",
    "# --learning_rate 0.0002 \\\n",
    "# --num_epochs 200 \\\n",
    "# --project_wandb gan-noise-investigation-test \\\n",
    "# --n_samples 60_000 \\\n",
    "# --run_on_notebook True \\\n",
    "# --dataset MNIST \\\n",
    "# --reduction_factor 1\n",
    "\n",
    "\n",
    "%run ../train.py \\\n",
    "--noise_type normal \\\n",
    "--noise_mean 0.0 \\\n",
    "--noise_std 1 \\\n",
    "--noise_min -1.0 \\\n",
    "--noise_max 1.0 \\\n",
    "--noise_lambda 1.0 \\\n",
    "--noise_alpha 2.0 \\\n",
    "--noise_beta 1.0 \\\n",
    "--hidden_layers_d 3 \\\n",
    "--hidden_layers_g 3 \\\n",
    "--latent_size 2 \\\n",
    "--hidden_size 32 \\\n",
    "--image_size 4 \\\n",
    "--img_dim 2 \\\n",
    "--batch_size 20 \\\n",
    "--learning_rate 0.0002 \\\n",
    "--num_epochs 200 \\\n",
    "--project_wandb gan-noise-investigation-test \\\n",
    "--n_samples 50_000 \\\n",
    "--run_on_notebook True \\\n",
    "--dataset BAS \\\n",
    "--reduction_factor 0.5 \\\n",
    "--log_wandb False \\\n",
    "--penalty_weight 0 \\\n",
    "--penalty_weight_entropy 0.5 \\\n",
    "--tolerance 0.3\n"
   ]
  }
 ],
 "metadata": {
  "kernelspec": {
   "display_name": "base",
   "language": "python",
   "name": "python3"
  },
  "language_info": {
   "codemirror_mode": {
    "name": "ipython",
    "version": 3
   },
   "file_extension": ".py",
   "mimetype": "text/x-python",
   "name": "python",
   "nbconvert_exporter": "python",
   "pygments_lexer": "ipython3",
   "version": "3.12.4"
  }
 },
 "nbformat": 4,
 "nbformat_minor": 2
}
