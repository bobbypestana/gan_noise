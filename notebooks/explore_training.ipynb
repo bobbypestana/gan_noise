{
 "cells": [
  {
   "cell_type": "code",
   "execution_count": 2,
   "metadata": {},
   "outputs": [
    {
     "name": "stderr",
     "output_type": "stream",
     "text": [
      "usage: train.py [-h] [--noise_type NOISE_TYPE] [--noise_mean NOISE_MEAN]\n",
      "                [--noise_std NOISE_STD] [--noise_min NOISE_MIN]\n",
      "                [--noise_max NOISE_MAX] [--noise_lambda NOISE_LAMBDA]\n",
      "                [--noise_alpha NOISE_ALPHA] [--noise_beta NOISE_BETA]\n",
      "                [--hidden_layers_d HIDDEN_LAYERS_D]\n",
      "                [--hidden_layers_g HIDDEN_LAYERS_G]\n",
      "                [--latent_size LATENT_SIZE] [--hidden_size HIDDEN_SIZE]\n",
      "                [--image_size IMAGE_SIZE] [--img_dim IMG_DIM]\n",
      "                [--batch_size BATCH_SIZE] [--learning_rate LEARNING_RATE]\n",
      "                [--num_epochs NUM_EPOCHS]\n",
      "                [--reduction_factor REDUCTION_FACTOR] [--dataset DATASET]\n",
      "                [--log_wandb LOG_WANDB] [--project_wandb PROJECT_WANDB]\n",
      "                [--run_on_notebook RUN_ON_NOTEBOOK]\n",
      "                [--photonic_layers PHOTONIC_LAYERS]\n",
      "                [--photonic_modes PHOTONIC_MODES]\n",
      "train.py: error: unrecognized arguments: --n_samples 10_000 --penalty_weight 0 --penalty_weight_entropy 0 --tolerance 0.3 --noise_from_sim False\n"
     ]
    },
    {
     "ename": "SystemExit",
     "evalue": "2",
     "output_type": "error",
     "traceback": [
      "An exception has occurred, use %tb to see the full traceback.\n",
      "\u001b[0;31mSystemExit\u001b[0m\u001b[0;31m:\u001b[0m 2\n"
     ]
    }
   ],
   "source": [
    "%run ../train.py \\\n",
    "--noise_type normal \\\n",
    "--noise_mean 0.0 \\\n",
    "--noise_std 1.0 \\\n",
    "--noise_min -1.0 \\\n",
    "--noise_max 1.0 \\\n",
    "--noise_lambda 1.0 \\\n",
    "--noise_alpha 2.0 \\\n",
    "--noise_beta 1.0 \\\n",
    "--hidden_layers_d 1 \\\n",
    "--hidden_layers_g 2 \\\n",
    "--latent_size 64 \\\n",
    "--hidden_size 256 \\\n",
    "--image_size 784 \\\n",
    "--img_dim 28 \\\n",
    "--batch_size 200 \\\n",
    "--learning_rate 0.0002 \\\n",
    "--num_epochs 200 \\\n",
    "--project_wandb gan-noise-investigation-test \\\n",
    "# --n_samples 10_000 \\\n",
    "--run_on_notebook True \\\n",
    "--dataset MNIST \\\n",
    "--reduction_factor 1 \\\n",
    "--log_wandb False \\\n",
    "# --penalty_weight 0 \\\n",
    "# --penalty_weight_entropy 0 \\\n",
    "# --tolerance 0.3 \\\n",
    "--photonic_layers 2 \\\n",
    "--photonic_modes 4 \n",
    "# --noise_from_sim False \n",
    "# --use_convolutions True\n",
    "\n",
    "# %run ../train.py \\\n",
    "# --noise_type pfc_sim \\\n",
    "# --noise_mean 0.0 \\\n",
    "# --noise_std 1 \\\n",
    "# --noise_min -1.0 \\\n",
    "# --noise_max 1.0 \\\n",
    "# --noise_lambda 1.0 \\\n",
    "# --noise_alpha 2.0 \\\n",
    "# --noise_beta 1.0 \\\n",
    "# --hidden_layers_d 3 \\\n",
    "# --hidden_layers_g 3 \\\n",
    "# --latent_size 4 \\\n",
    "# --hidden_size 32 \\\n",
    "# --image_size 4 \\\n",
    "# --img_dim 2 \\\n",
    "# --batch_size 20 \\\n",
    "# --learning_rate 0.0002 \\\n",
    "# --num_epochs 200 \\\n",
    "# --project_wandb gan-noise-investigation-test \\\n",
    "# --n_samples 10_000 \\\n",
    "# --run_on_notebook True \\\n",
    "# --dataset BAS \\\n",
    "# --reduction_factor 0.5 \\\n",
    "# --log_wandb False \\\n",
    "# --penalty_weight 0 \\\n",
    "# --penalty_weight_entropy 0 \\\n",
    "# --tolerance 0.3 \\\n",
    "# --l 2 \\\n",
    "# --d 4 \\\n",
    "# --noise_from_sim False\n"
   ]
  }
 ],
 "metadata": {
  "kernelspec": {
   "display_name": "base",
   "language": "python",
   "name": "python3"
  },
  "language_info": {
   "codemirror_mode": {
    "name": "ipython",
    "version": 3
   },
   "file_extension": ".py",
   "mimetype": "text/x-python",
   "name": "python",
   "nbconvert_exporter": "python",
   "pygments_lexer": "ipython3",
   "version": "3.12.4"
  }
 },
 "nbformat": 4,
 "nbformat_minor": 2
}
