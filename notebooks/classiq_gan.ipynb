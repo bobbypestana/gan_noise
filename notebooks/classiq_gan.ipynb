{
 "cells": [
  {
   "cell_type": "code",
   "execution_count": null,
   "metadata": {},
   "outputs": [],
   "source": [
    "# https://docs.classiq.io/latest/explore/algorithms/qml/qgan/qgan_bars_and_strips/#23-performance-evaluation"
   ]
  },
  {
   "cell_type": "code",
   "execution_count": 1,
   "metadata": {},
   "outputs": [],
   "source": [
    "import time\n",
    "\n",
    "import numpy as np\n",
    "\n",
    "\n",
    "# Function to create Bars and Stripes dataset\n",
    "def create_bars_and_stripes_dataset(num_samples):\n",
    "    samples = []\n",
    "    for _ in range(num_samples):\n",
    "        horizontal = np.random.randint(0, 2) == 0\n",
    "        if horizontal:\n",
    "            stripe = np.random.randint(0, 2, size=(2, 1))\n",
    "            sample = np.tile(stripe, (1, 2))\n",
    "        else:\n",
    "            stripe = np.random.randint(0, 2, size=(1, 2))\n",
    "            sample = np.tile(stripe, (2, 1))\n",
    "        samples.append(sample)\n",
    "    return np.array(samples, dtype=np.uint8)"
   ]
  },
  {
   "cell_type": "code",
   "execution_count": 2,
   "metadata": {},
   "outputs": [],
   "source": [
    "# Generate Bars and Stripes dataset\n",
    "dataset = create_bars_and_stripes_dataset(num_samples=1000)"
   ]
  },
  {
   "cell_type": "code",
   "execution_count": 3,
   "metadata": {},
   "outputs": [],
   "source": [
    "import matplotlib.pyplot as plt\n",
    "from matplotlib.colors import LinearSegmentedColormap\n",
    "\n",
    "\n",
    "# Plot images in a 3 by 3 grid\n",
    "def plot_nine_images(generated_images):\n",
    "    # Define custom colormap\n",
    "    classiq_cmap = LinearSegmentedColormap.from_list(\n",
    "        \"teal_white\", [(0, \"#00FF00\"), (1, \"black\")]\n",
    "    )\n",
    "    fig, axes = plt.subplots(3, 3, figsize=(6, 6))\n",
    "    for i, ax in enumerate(axes.flat):\n",
    "        ax.imshow(generated_images[i].reshape(2, 2), cmap=classiq_cmap, vmin=0, vmax=1)\n",
    "        ax.axis(\"off\")\n",
    "        ax.set_title(f\"Image {i+1}\")\n",
    "        for j in range(2):\n",
    "            for k in range(2):\n",
    "                label = int(generated_images[i].reshape(2, 2)[j, k])\n",
    "                ax.text(\n",
    "                    k,\n",
    "                    j,\n",
    "                    f\"{label}\",\n",
    "                    ha=\"center\",\n",
    "                    va=\"center\",\n",
    "                    color=\"white\" if label == 1 else \"black\",\n",
    "                    fontsize=16,\n",
    "                )\n",
    "    plt.tight_layout()\n",
    "    plt.show()"
   ]
  },
  {
   "cell_type": "code",
   "execution_count": 4,
   "metadata": {},
   "outputs": [
    {
     "data": {
      "image/png": "[encoded data removed]",
      "text/plain": [
       "<Figure size 600x600 with 9 Axes>"
      ]
     },
     "metadata": {},
     "output_type": "display_data"
    }
   ],
   "source": [
    "# Generate images\n",
    "generated_images = create_bars_and_stripes_dataset(9)\n",
    "plot_nine_images(generated_images)"
   ]
  },
  {
   "cell_type": "code",
   "execution_count": 5,
   "metadata": {},
   "outputs": [],
   "source": [
    "import torch\n",
    "from torch.utils.data import DataLoader, TensorDataset\n",
    "\n",
    "# Create DataLoader for training\n",
    "tensor_dataset = TensorDataset(torch.tensor(dataset, dtype=torch.float))\n",
    "dataloader = DataLoader(tensor_dataset, batch_size=64, shuffle=True)"
   ]
  },
  {
   "cell_type": "code",
   "execution_count": 6,
   "metadata": {},
   "outputs": [],
   "source": [
    "import pathlib\n",
    "\n",
    "path = (\n",
    "    pathlib.Path(__file__).parent.resolve()\n",
    "    if \"__file__\" in locals()\n",
    "    else pathlib.Path(\".\")\n",
    ")"
   ]
  },
  {
   "cell_type": "code",
   "execution_count": 7,
   "metadata": {},
   "outputs": [],
   "source": [
    "import torch.nn as nn\n",
    "\n",
    "\n",
    "class Generator(nn.Module):\n",
    "    def __init__(self, input_size=2, output_size=4, hidden_size=32):\n",
    "        super(Generator, self).__init__()\n",
    "        self.model = nn.Sequential(\n",
    "            nn.Linear(input_size, hidden_size // 2),  # Adjusted hidden layer size\n",
    "            nn.ReLU(),\n",
    "            nn.Linear(hidden_size // 2, hidden_size),  # Adjusted hidden layer size\n",
    "            nn.ReLU(),\n",
    "            nn.Linear(hidden_size, output_size),\n",
    "            nn.Sigmoid(),  # Sigmoid activation to output probabilities\n",
    "        )\n",
    "\n",
    "    def forward(self, x):\n",
    "        return torch.round(self.model(x))\n",
    "\n",
    "\n",
    "class Discriminator(nn.Module):\n",
    "    def __init__(self, input_size=4, hidden_size=16):\n",
    "        super(Discriminator, self).__init__()\n",
    "        self.model = nn.Sequential(\n",
    "            nn.Linear(input_size, hidden_size // 2),  # Adjusted hidden layer size\n",
    "            nn.LeakyReLU(0.2),\n",
    "            nn.Linear(hidden_size // 2, hidden_size),  # Adjusted hidden layer size\n",
    "            nn.LeakyReLU(0.25),\n",
    "            nn.Dropout(0.3),\n",
    "            nn.Linear(hidden_size, 1),\n",
    "            nn.Sigmoid(),  # Sigmoid activation to output probabilities\n",
    "        )\n",
    "\n",
    "    def forward(self, x):\n",
    "        x = x.view(-1, 4)  # Flatten input for fully connected layers\n",
    "        return self.model(x)"
   ]
  },
  {
   "cell_type": "code",
   "execution_count": 8,
   "metadata": {},
   "outputs": [],
   "source": [
    "import os\n",
    "from datetime import datetime\n",
    "\n",
    "import torch\n",
    "import torch.nn as nn\n",
    "import torchvision.utils as vutils\n",
    "from torch.utils.tensorboard import SummaryWriter\n",
    "\n",
    "\n",
    "def train_gan(\n",
    "    generator,\n",
    "    discriminator,\n",
    "    dataloader,\n",
    "    log_dir_name,\n",
    "    fixed_noise,\n",
    "    random_fake_data_generator,\n",
    "    num_epochs=100,\n",
    "    device=\"cpu\",\n",
    "):\n",
    "\n",
    "    # Initialize TensorBoard writer\n",
    "    run_id = datetime.now().strftime(\"%Y%m%d_%H%M%S\")\n",
    "    log_dir = os.path.join(log_dir_name, run_id)\n",
    "    writer = SummaryWriter(log_dir=log_dir)\n",
    "\n",
    "    # Define loss function and optimizer\n",
    "    criterion = nn.BCELoss()\n",
    "    g_optimizer = torch.optim.Adam(generator.parameters(), lr=0.0002)\n",
    "    d_optimizer = torch.optim.Adam(discriminator.parameters(), lr=0.0002)\n",
    "\n",
    "    generator.to(device)\n",
    "    discriminator.to(device)\n",
    "\n",
    "    for epoch in range(num_epochs):\n",
    "        for i, batch in enumerate(dataloader):\n",
    "            real_data = batch[0].to(device)\n",
    "            batch_size = real_data.size(0)\n",
    "\n",
    "            # Train Discriminator with real data\n",
    "            d_optimizer.zero_grad()\n",
    "            real_output = discriminator(real_data)\n",
    "            d_real_loss = criterion(real_output, torch.ones_like(real_output))\n",
    "            d_real_loss.backward()\n",
    "\n",
    "            # Train Discriminator with fake data\n",
    "            z = random_fake_data_generator(batch_size)\n",
    "            fake_data = generator(z)\n",
    "            fake_output = discriminator(fake_data.detach())\n",
    "            d_fake_loss = criterion(fake_output, torch.zeros_like(fake_output))\n",
    "            d_fake_loss.backward()\n",
    "            d_optimizer.step()\n",
    "\n",
    "            # Train Generator\n",
    "            g_optimizer.zero_grad()\n",
    "            z = random_fake_data_generator(batch_size)\n",
    "            fake_data = generator(z)\n",
    "            fake_output = discriminator(fake_data)\n",
    "            g_loss = criterion(fake_output, torch.ones_like(fake_output))\n",
    "            g_loss.backward()\n",
    "            g_optimizer.step()\n",
    "\n",
    "            # Log losses to TensorBoard\n",
    "            step = epoch * len(dataloader) + i\n",
    "            writer.add_scalar(\"Generator Loss\", g_loss.item(), step)\n",
    "            writer.add_scalar(\"Discriminator Real Loss\", d_real_loss.item(), step)\n",
    "            writer.add_scalar(\"Discriminator Fake Loss\", d_fake_loss.item(), step)\n",
    "\n",
    "            if i % 100 == 0:\n",
    "                print(\n",
    "                    f\"Epoch [{epoch+1}/{num_epochs}], Step [{i+1}/{len(dataloader)}], \"\n",
    "                    f\"Generator Loss: {g_loss.item():.4f}, \"\n",
    "                    f\"Discriminator Real Loss: {d_real_loss.item():.4f}, \"\n",
    "                    f\"Discriminator Fake Loss: {d_fake_loss.item():.4f}\"\n",
    "                )\n",
    "\n",
    "        # Generate and log sample images for visualization\n",
    "        # if (epoch+1) % (num_epochs // 10) == 0:\n",
    "        #     with torch.no_grad():\n",
    "        #         generated_images = generator(fixed_noise).detach().cpu()\n",
    "        #     img_grid = vutils.make_grid(generated_images, nrow=3, normalize=True)\n",
    "        #     writer.add_image('Generated Images', img_grid, epoch+1)\n",
    "\n",
    "    # Close TensorBoard writer\n",
    "    writer.close()"
   ]
  },
  {
   "cell_type": "code",
   "execution_count": 9,
   "metadata": {},
   "outputs": [],
   "source": [
    "# Fixed noise for visualizing generated samples\n",
    "fixed_noise = torch.randn(9, 2)\n",
    "\n",
    "\n",
    "def random_fake_data_for_gan(batch_size, input_size):\n",
    "    return torch.randn(batch_size, input_size)"
   ]
  },
  {
   "cell_type": "code",
   "execution_count": 10,
   "metadata": {},
   "outputs": [
    {
     "name": "stdout",
     "output_type": "stream",
     "text": [
      "Epoch [1/10], Step [1/16], Generator Loss: 0.9999, Discriminator Real Loss: 0.8944, Discriminator Fake Loss: 0.4717\n",
      "Epoch [2/10], Step [1/16], Generator Loss: 0.9867, Discriminator Real Loss: 0.8902, Discriminator Fake Loss: 0.4873\n",
      "Epoch [3/10], Step [1/16], Generator Loss: 0.9996, Discriminator Real Loss: 0.8886, Discriminator Fake Loss: 0.4900\n",
      "Epoch [4/10], Step [1/16], Generator Loss: 0.9526, Discriminator Real Loss: 0.8873, Discriminator Fake Loss: 0.5000\n",
      "Epoch [5/10], Step [1/16], Generator Loss: 0.9625, Discriminator Real Loss: 0.8686, Discriminator Fake Loss: 0.5044\n",
      "Epoch [6/10], Step [1/16], Generator Loss: 0.9616, Discriminator Real Loss: 0.8893, Discriminator Fake Loss: 0.4742\n",
      "Epoch [7/10], Step [1/16], Generator Loss: 0.9709, Discriminator Real Loss: 0.8552, Discriminator Fake Loss: 0.4989\n",
      "Epoch [8/10], Step [1/16], Generator Loss: 0.9641, Discriminator Real Loss: 0.8544, Discriminator Fake Loss: 0.4711\n",
      "Epoch [9/10], Step [1/16], Generator Loss: 0.9467, Discriminator Real Loss: 0.8495, Discriminator Fake Loss: 0.4746\n",
      "Epoch [10/10], Step [1/16], Generator Loss: 0.9542, Discriminator Real Loss: 0.8412, Discriminator Fake Loss: 0.4798\n"
     ]
    }
   ],
   "source": [
    "generator = Generator(input_size=2, output_size=4, hidden_size=32)\n",
    "discriminator = Discriminator(input_size=4, hidden_size=16)\n",
    "\n",
    "# For simplicitly we load a pretrained model\n",
    "# checkpoint = torch.load(path / \"resources/generator_trained_model.pth\")\n",
    "# generator.load_state_dict(checkpoint)\n",
    "\n",
    "train_gan(\n",
    "    generator=generator,\n",
    "    discriminator=discriminator,\n",
    "    dataloader=dataloader,\n",
    "    log_dir_name=\"logs\",\n",
    "    fixed_noise=fixed_noise,\n",
    "    random_fake_data_generator=lambda b_size: random_fake_data_for_gan(b_size, 2),\n",
    "    num_epochs=10,\n",
    "    device=\"cpu\",\n",
    ")\n",
    "\n",
    "# Save trained generator model\n",
    "torch.save(generator.state_dict(),  \"resources/generator_model.pth\")"
   ]
  },
  {
   "cell_type": "code",
   "execution_count": 11,
   "metadata": {},
   "outputs": [
    {
     "name": "stdout",
     "output_type": "stream",
     "text": [
      "Classically trained generator accuracy: 85.00%%\n"
     ]
    },
    {
     "name": "stderr",
     "output_type": "stream",
     "text": [
      "/tmp/ipykernel_4135/2323115705.py:3: FutureWarning: You are using `torch.load` with `weights_only=False` (the current default value), which uses the default pickle module implicitly. It is possible to construct malicious pickle data which will execute arbitrary code during unpickling (See https://github.com/pytorch/pytorch/blob/main/SECURITY.md#untrusted-models for more details). In a future release, the default value for `weights_only` will be flipped to `True`. This limits the functions that could be executed during unpickling. Arbitrary objects will no longer be allowed to be loaded via this mode unless they are explicitly allowlisted by the user via `torch.serialization.add_safe_globals`. We recommend you start setting `weights_only=True` for any use case where you don't have full control of the loaded file. Please open an issue on GitHub for any issues related to this experimental feature.\n",
      "  checkpoint = torch.load( \"resources/generator_model.pth\")\n"
     ]
    }
   ],
   "source": [
    "# Load state dictionary with mismatched sizes\n",
    "generator = Generator()\n",
    "checkpoint = torch.load( \"resources/generator_model.pth\")\n",
    "generator.load_state_dict(checkpoint)\n",
    "num_samples = 100\n",
    "z = random_fake_data_for_gan(num_samples, 2)\n",
    "gen_data = generator(z)\n",
    "\n",
    "\n",
    "def evaluate_generator(samples):\n",
    "    count_err = 0\n",
    "    for img in samples:\n",
    "        img = img.reshape(2, 2)\n",
    "        diag1 = int(img[0, 0]) * int(img[1, 1])\n",
    "        diag2 = int(img[0, 1]) * (int(img[1, 0]))\n",
    "        if (diag1 == 1 or diag2 == 1) and diag1 * diag2 != 1:\n",
    "            count_err += 1\n",
    "    return (samples.shape[0] - count_err) / samples.shape[0]\n",
    "\n",
    "\n",
    "accuracy = evaluate_generator(samples=gen_data)\n",
    "print(f\"Classically trained generator accuracy: {accuracy:.2%}%\")"
   ]
  },
  {
   "cell_type": "code",
   "execution_count": 14,
   "metadata": {},
   "outputs": [
    {
     "name": "stderr",
     "output_type": "stream",
     "text": [
      "/tmp/ipykernel_4135/3425549298.py:4: FutureWarning: You are using `torch.load` with `weights_only=False` (the current default value), which uses the default pickle module implicitly. It is possible to construct malicious pickle data which will execute arbitrary code during unpickling (See https://github.com/pytorch/pytorch/blob/main/SECURITY.md#untrusted-models for more details). In a future release, the default value for `weights_only` will be flipped to `True`. This limits the functions that could be executed during unpickling. Arbitrary objects will no longer be allowed to be loaded via this mode unless they are explicitly allowlisted by the user via `torch.serialization.add_safe_globals`. We recommend you start setting `weights_only=True` for any use case where you don't have full control of the loaded file. Please open an issue on GitHub for any issues related to this experimental feature.\n",
      "  torch.load(path / \"resources/generator_model.pth\")\n"
     ]
    },
    {
     "data": {
      "image/png": "[encoded data removed]",
      "text/plain": [
       "<Figure size 600x600 with 9 Axes>"
      ]
     },
     "metadata": {},
     "output_type": "display_data"
    }
   ],
   "source": [
    "# Initialize generator for evaluation\n",
    "generator_for_evaluation = Generator(input_size=2, output_size=4)\n",
    "generator_for_evaluation.load_state_dict(\n",
    "    torch.load(path / \"resources/generator_model.pth\")\n",
    ")  # Load trained model\n",
    "generator_for_evaluation.eval()\n",
    "\n",
    "# Generate images\n",
    "with torch.no_grad():\n",
    "    noise = torch.randn(9, 2)\n",
    "    generated_images = generator_for_evaluation(noise).detach().cpu().numpy()\n",
    "\n",
    "# Plot images in a 3 by 3 grid\n",
    "# generated_images = create_bars_and_stripes_dataset(9)\n",
    "plot_nine_images(generated_images)"
   ]
  }
 ],
 "metadata": {
  "kernelspec": {
   "display_name": "base",
   "language": "python",
   "name": "python3"
  },
  "language_info": {
   "codemirror_mode": {
    "name": "ipython",
    "version": 3
   },
   "file_extension": ".py",
   "mimetype": "text/x-python",
   "name": "python",
   "nbconvert_exporter": "python",
   "pygments_lexer": "ipython3",
   "version": "3.12.4"
  }
 },
 "nbformat": 4,
 "nbformat_minor": 2
}
